{
 "cells": [
  {
   "cell_type": "code",
   "execution_count": 74,
   "id": "56c0d156",
   "metadata": {},
   "outputs": [],
   "source": [
    "import aequitas\n",
    "import pandas as pd\n",
    "import numpy as np\n",
    "from ml.data import process_data\n",
    "\n",
    "from ml.model import train_model,slice_inference,inference,compute_model_metrics\n",
    "from aequitas.group import Group\n",
    "from aequitas.preprocessing import preprocess_input_df\n",
    "import matplotlib.pyplot as plt\n",
    "import aequitas.fairness \n",
    "from aequitas.group import Group\n",
    "from aequitas.preprocessing import preprocess_input_df\n",
    "import aequitas as aq\n",
    "from aequitas.plotting import Plot\n",
    "import pickle\n",
    "import os"
   ]
  },
  {
   "cell_type": "code",
   "execution_count": 87,
   "id": "f6d8f123",
   "metadata": {},
   "outputs": [],
   "source": [
    "def slice_inference(model,X, df,cat_feats, slice_feats='all'):\n",
    "    \"\"\" Run model inferences and return the predictions.\n",
    "\n",
    "    Inputs\n",
    "    ------\n",
    "    model : ???\n",
    "        Trained machine learning model.\n",
    "    X : np.array\n",
    "        Data used for prediction.\n",
    "    slice_feats : list-like, string\n",
    "        feature columns to get slices\n",
    "        \n",
    "    Returns\n",
    "    -------\n",
    "    preds : np.array\n",
    "        Predictions from the model.\n",
    "    \"\"\"\n",
    "    \n",
    "    if slice_feats=='all':\n",
    "        slice_cols =list(data.columns)\n",
    "    else:\n",
    "        slice_cols = list(slice_feats)\n",
    "    df['label_value'] = df['salary'].values\n",
    "    df= df.drop('salary',axis=1)\n",
    "    slice_cols.remove('salary')\n",
    "    df['score']=inference(model,X)\n",
    "    # double-check that categorical columns are of type 'string'\n",
    "    df[cat_feats] = df[cat_feats].astype(str)\n",
    "    \n",
    "    df, _ = preprocess_input_df(df[slice_cols+['score']+['label_value']])\n",
    "    g = Group()\n",
    "    xtab, _ = g.get_crosstabs(df)\n",
    "    df[slice_cols]\n",
    "    attr_xtab=xtab[xtab['attribute_name'].isin(slice_cols)]\n",
    "    \n",
    "    \n",
    "    #aqp = Plot()\n",
    "    #fig=aqp.plot_group_metric_all(attr_xtab, ncols=3,show_figure=False)\n",
    "    #plt.savefig(os.path.abspath(os.getcwd())+'/images/slice_performance_output.png')\n",
    "    f = open(os.path.join('..','slice_output.txt'),'w')\n",
    "    f.write(\"Slice Metrics\\n\")\n",
    "    f.write(\"------------------------\\n\")\n",
    "    for attribute_name in attr_xtab['attribute_name'].unique():\n",
    "        f.write(\"Slices for attribute '{}':\\n\".format(attribute_name))\n",
    "        for attribute_value in attr_xtab[attr_xtab['attribute_name']==attribute_name]['attribute_value']:\n",
    "            \n",
    "            slice_data = df[df[attribute_name]==attribute_value]\n",
    "            precision, recall, fbeta = compute_model_metrics(y[slice_data.index],slice_data['score'].values)\n",
    "            f.write(\"{}: precsion={} recall={} fbeta={}\\n\".format(attribute_value,precision, recall, fbeta))\n",
    "            \n",
    "        f.write(\"------------------------\\n\") \n",
    "    f.close()\n",
    "\n",
    "        \n",
    "        \n",
    "    return attr_xtab\n",
    "    "
   ]
  },
  {
   "cell_type": "code",
   "execution_count": 88,
   "id": "ce71e4db",
   "metadata": {},
   "outputs": [],
   "source": [
    "loaded_model = pickle.load(open(os.path.join('..','model','model.pkl'), 'rb'))\n",
    "loaded_encoder = pickle.load(open(os.path.join('..','model','encoder.pkl'), 'rb'))\n",
    "loaded_lb = pickle.load(open(os.path.join('..','model','labeler.pkl'), 'rb'))\n",
    "cat_feats = [\n",
    "    \"workclass\",\n",
    "    \"education\",\n",
    "    \"marital-status\",\n",
    "    \"occupation\",\n",
    "    \"relationship\",\n",
    "    \"race\",\n",
    "    \"sex\",\n",
    "    \"native-country\",\n",
    "    ]\n",
    "data =pd.read_csv(os.path.join('..','data','census_cleaned.csv'))\n",
    "X,y,enc, lb = process_data(data, categorical_features=cat_features, label='salary', training=False, encoder=loaded_encoder, lb=loaded_lb)\n"
   ]
  },
  {
   "cell_type": "code",
   "execution_count": 89,
   "id": "e05f59e7",
   "metadata": {
    "scrolled": true
   },
   "outputs": [
    {
     "name": "stdout",
     "output_type": "stream",
     "text": [
      "model_id, score_thresholds 0 {'rank_abs': [6400]}\n"
     ]
    }
   ],
   "source": [
    "attr_xtab = slice_inference(loaded_model,X.copy(), data.copy(),cat_feats )"
   ]
  },
  {
   "cell_type": "code",
   "execution_count": null,
   "id": "8f00850e",
   "metadata": {},
   "outputs": [],
   "source": [
    "attr_xtab"
   ]
  },
  {
   "cell_type": "code",
   "execution_count": null,
   "id": "54b77096",
   "metadata": {},
   "outputs": [],
   "source": [
    "for attribute_name in attr_xtab['attribute_name'].unique():\n",
    "    for attribute_value in attr_xtab[attr_xtab['attribute_name']==attribute_name]['attribute_value']:\n",
    "        \n",
    "        slice_data = data[data[attribute_name]==attribute_value]\n",
    "        compute_model_metrics(y[slice_data.index],compute_model_metrics['score'])"
   ]
  },
  {
   "cell_type": "code",
   "execution_count": 61,
   "id": "200af111",
   "metadata": {},
   "outputs": [
    {
     "data": {
      "text/plain": [
       "583"
      ]
     },
     "execution_count": 61,
     "metadata": {},
     "output_type": "execute_result"
    }
   ],
   "source": [
    "y[slice_data.index]"
   ]
  },
  {
   "cell_type": "code",
   "execution_count": 91,
   "id": "41a33218",
   "metadata": {},
   "outputs": [
    {
     "data": {
      "text/plain": [
       "{'max_depth': 25,\n",
       " 'min_samples_leaf': 1,\n",
       " 'min_samples_split': 5,\n",
       " 'n_estimators': 500}"
      ]
     },
     "execution_count": 91,
     "metadata": {},
     "output_type": "execute_result"
    }
   ],
   "source": [
    "loaded_model.best_params_"
   ]
  },
  {
   "cell_type": "code",
   "execution_count": null,
   "id": "bf224d6f",
   "metadata": {},
   "outputs": [],
   "source": []
  },
  {
   "cell_type": "code",
   "execution_count": null,
   "id": "49eaa83d",
   "metadata": {},
   "outputs": [],
   "source": []
  },
  {
   "cell_type": "code",
   "execution_count": null,
   "id": "0516b8b2",
   "metadata": {},
   "outputs": [],
   "source": []
  },
  {
   "cell_type": "code",
   "execution_count": null,
   "id": "5e84133a",
   "metadata": {},
   "outputs": [],
   "source": []
  },
  {
   "cell_type": "code",
   "execution_count": null,
   "id": "86f1b44f",
   "metadata": {},
   "outputs": [],
   "source": []
  },
  {
   "cell_type": "code",
   "execution_count": null,
   "id": "a18152fe",
   "metadata": {},
   "outputs": [],
   "source": []
  },
  {
   "cell_type": "code",
   "execution_count": null,
   "id": "5e05892f",
   "metadata": {},
   "outputs": [],
   "source": []
  },
  {
   "cell_type": "code",
   "execution_count": null,
   "id": "50178bca",
   "metadata": {},
   "outputs": [],
   "source": []
  },
  {
   "cell_type": "code",
   "execution_count": null,
   "id": "111eaf49",
   "metadata": {},
   "outputs": [],
   "source": []
  },
  {
   "cell_type": "code",
   "execution_count": null,
   "id": "dadbb926",
   "metadata": {},
   "outputs": [],
   "source": []
  },
  {
   "cell_type": "code",
   "execution_count": null,
   "id": "65c79b12",
   "metadata": {},
   "outputs": [],
   "source": []
  },
  {
   "cell_type": "code",
   "execution_count": null,
   "id": "86fd35aa",
   "metadata": {},
   "outputs": [],
   "source": []
  },
  {
   "cell_type": "code",
   "execution_count": null,
   "id": "3a0d5d98",
   "metadata": {},
   "outputs": [],
   "source": []
  },
  {
   "cell_type": "code",
   "execution_count": null,
   "id": "f00b1d39",
   "metadata": {},
   "outputs": [],
   "source": []
  },
  {
   "cell_type": "code",
   "execution_count": null,
   "id": "979edfb3",
   "metadata": {},
   "outputs": [],
   "source": []
  },
  {
   "cell_type": "code",
   "execution_count": null,
   "id": "605c5fa8",
   "metadata": {},
   "outputs": [],
   "source": []
  },
  {
   "cell_type": "code",
   "execution_count": null,
   "id": "d71b955b",
   "metadata": {},
   "outputs": [],
   "source": []
  }
 ],
 "metadata": {
  "kernelspec": {
   "display_name": "Python 3 (ipykernel)",
   "language": "python",
   "name": "python3"
  },
  "language_info": {
   "codemirror_mode": {
    "name": "ipython",
    "version": 3
   },
   "file_extension": ".py",
   "mimetype": "text/x-python",
   "name": "python",
   "nbconvert_exporter": "python",
   "pygments_lexer": "ipython3",
   "version": "3.8.10"
  }
 },
 "nbformat": 4,
 "nbformat_minor": 5
}
